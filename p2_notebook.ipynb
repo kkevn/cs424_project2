{
 "cells": [
  {
   "cell_type": "code",
   "execution_count": null,
   "metadata": {},
   "outputs": [],
   "source": [
    "#######################################\n",
    "# CS 424 - Project 2\n",
    "# Kevin Kowalski\n",
    "# Samuel Kajah\n",
    "# Vijay Vemu\n",
    "#######################################\n",
    "#\n",
    "# This file contains the code to clean\n",
    "# the original data set. It outputs\n",
    "# the necessary plots and updated data\n",
    "# set to be used by shiny.\n",
    "#\n",
    "# This file was used for testing and \n",
    "# plotting before using RStudio for a\n",
    "# dashboard.\n",
    "#\n",
    "####################################### "
   ]
  },
  {
   "cell_type": "code",
   "execution_count": null,
   "metadata": {},
   "outputs": [],
   "source": [
    "# import libraries\n",
    "library(leaflet)\n",
    "library(lubridate)\n",
    "library(dplyr)\n",
    "library(ggplot2)\n",
    "library(scales)\n",
    "library(stringr)"
   ]
  },
  {
   "cell_type": "code",
   "execution_count": null,
   "metadata": {},
   "outputs": [],
   "source": [
    "# give appropriate column names to data, possibly by hand? (must be done before reading it into a variable)\n",
    "# TODO"
   ]
  },
  {
   "cell_type": "code",
   "execution_count": null,
   "metadata": {},
   "outputs": [],
   "source": [
    "# read original data\n",
    "atlantic_original <- read.table(file = \"hurdat2-1851-2018-120319.txt\", sep = \",\", header = TRUE)\n",
    "pacific_original <- read.table(file = \"hurdat2-nepac-1949-2018-122019.txt\", sep = \",\", header = TRUE)"
   ]
  },
  {
   "cell_type": "code",
   "execution_count": null,
   "metadata": {},
   "outputs": [],
   "source": [
    "# see top of altlantic data\n",
    "head(atlantic_original)"
   ]
  },
  {
   "cell_type": "code",
   "execution_count": null,
   "metadata": {},
   "outputs": [],
   "source": [
    "# see top of pacific data\n",
    "head(pacific_original)"
   ]
  }
 ],
 "metadata": {
  "kernelspec": {
   "display_name": "R",
   "language": "R",
   "name": "ir"
  },
  "language_info": {
   "codemirror_mode": "r",
   "file_extension": ".r",
   "mimetype": "text/x-r-source",
   "name": "R",
   "pygments_lexer": "r",
   "version": "3.6.1"
  }
 },
 "nbformat": 4,
 "nbformat_minor": 2
}
