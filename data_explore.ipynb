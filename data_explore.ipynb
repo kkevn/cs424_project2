{
 "cells": [
  {
   "cell_type": "code",
   "execution_count": 89,
   "metadata": {},
   "outputs": [
    {
     "name": "stderr",
     "output_type": "stream",
     "text": [
      "\n",
      "Attaching package: ‘dplyr’\n",
      "\n",
      "\n",
      "The following objects are masked from ‘package:lubridate’:\n",
      "\n",
      "    intersect, setdiff, union\n",
      "\n",
      "\n",
      "The following objects are masked from ‘package:stats’:\n",
      "\n",
      "    filter, lag\n",
      "\n",
      "\n",
      "The following objects are masked from ‘package:base’:\n",
      "\n",
      "    intersect, setdiff, setequal, union\n",
      "\n",
      "\n"
     ]
    }
   ],
   "source": [
    "library(hashmap)\n",
    "library(comprehenr)\n",
    "library(lubridate)\n",
    "library(dplyr)"
   ]
  },
  {
   "cell_type": "code",
   "execution_count": 20,
   "metadata": {},
   "outputs": [
    {
     "data": {
      "text/html": [
       "'\\ndata rows\\ncol 1 – date YYYYmmDD\\ncol 2 – time HHMM\\ncol 3 – record identifier (factor)\\ncol 4 – storm type (factor)\\ncol 5 – latitude (n/s)\\ncol 6 – longitude (e/w)\\ncol 7 – Maximum sustained wind (in knots)\\ncol 8 – Minimum Pressure (in millibars)\\ncol 9 – 34 kt wind radii maximum extent in northeastern quadrant (in nautical miles) \\ncol 10 – 34 kt wind radii maximum extent in southeastern quadrant (in nautical miles) \\ncol 11 – 34 kt wind radii maximum extent in southwestern quadrant (in nautical miles) \\ncol 12 – 34 kt wind radii maximum extent in northwestern quadrant (in nautical miles) \\ncol 13 – 50 kt wind radii maximum extent in northeastern quadrant (in nautical miles) \\ncol 14 – 50 kt wind radii maximum extent in southeastern quadrant (in nautical miles) \\ncol 15 – 50 kt wind radii maximum extent in southwestern quadrant (in nautical miles) \\ncol 16 – 50 kt wind radii maximum extent in northwestern quadrant (in nautical miles) \\ncol 17 – 64 kt wind radii maximum extent in northeastern quadrant (in nautical miles)\\ncol 18 – 64 kt wind radii maximum extent in southeastern quadrant (in nautical miles)\\ncol 19 – 64 kt wind radii maximum extent in southwestern quadrant (in nautical miles) \\ncol 20 – 64 kt wind radii maximum extent in northwestern quadrant (in nautical miles)\\n'"
      ],
      "text/latex": [
       "'\\textbackslash{}ndata rows\\textbackslash{}ncol 1 – date YYYYmmDD\\textbackslash{}ncol 2 – time HHMM\\textbackslash{}ncol 3 – record identifier (factor)\\textbackslash{}ncol 4 – storm type (factor)\\textbackslash{}ncol 5 – latitude (n/s)\\textbackslash{}ncol 6 – longitude (e/w)\\textbackslash{}ncol 7 – Maximum sustained wind (in knots)\\textbackslash{}ncol 8 – Minimum Pressure (in millibars)\\textbackslash{}ncol 9 – 34 kt wind radii maximum extent in northeastern quadrant (in nautical miles) \\textbackslash{}ncol 10 – 34 kt wind radii maximum extent in southeastern quadrant (in nautical miles) \\textbackslash{}ncol 11 – 34 kt wind radii maximum extent in southwestern quadrant (in nautical miles) \\textbackslash{}ncol 12 – 34 kt wind radii maximum extent in northwestern quadrant (in nautical miles) \\textbackslash{}ncol 13 – 50 kt wind radii maximum extent in northeastern quadrant (in nautical miles) \\textbackslash{}ncol 14 – 50 kt wind radii maximum extent in southeastern quadrant (in nautical miles) \\textbackslash{}ncol 15 – 50 kt wind radii maximum extent in southwestern quadrant (in nautical miles) \\textbackslash{}ncol 16 – 50 kt wind radii maximum extent in northwestern quadrant (in nautical miles) \\textbackslash{}ncol 17 – 64 kt wind radii maximum extent in northeastern quadrant (in nautical miles)\\textbackslash{}ncol 18 – 64 kt wind radii maximum extent in southeastern quadrant (in nautical miles)\\textbackslash{}ncol 19 – 64 kt wind radii maximum extent in southwestern quadrant (in nautical miles) \\textbackslash{}ncol 20 – 64 kt wind radii maximum extent in northwestern quadrant (in nautical miles)\\textbackslash{}n'"
      ],
      "text/markdown": [
       "'\\ndata rows\\ncol 1 – date YYYYmmDD\\ncol 2 – time HHMM\\ncol 3 – record identifier (factor)\\ncol 4 – storm type (factor)\\ncol 5 – latitude (n/s)\\ncol 6 – longitude (e/w)\\ncol 7 – Maximum sustained wind (in knots)\\ncol 8 – Minimum Pressure (in millibars)\\ncol 9 – 34 kt wind radii maximum extent in northeastern quadrant (in nautical miles) \\ncol 10 – 34 kt wind radii maximum extent in southeastern quadrant (in nautical miles) \\ncol 11 – 34 kt wind radii maximum extent in southwestern quadrant (in nautical miles) \\ncol 12 – 34 kt wind radii maximum extent in northwestern quadrant (in nautical miles) \\ncol 13 – 50 kt wind radii maximum extent in northeastern quadrant (in nautical miles) \\ncol 14 – 50 kt wind radii maximum extent in southeastern quadrant (in nautical miles) \\ncol 15 – 50 kt wind radii maximum extent in southwestern quadrant (in nautical miles) \\ncol 16 – 50 kt wind radii maximum extent in northwestern quadrant (in nautical miles) \\ncol 17 – 64 kt wind radii maximum extent in northeastern quadrant (in nautical miles)\\ncol 18 – 64 kt wind radii maximum extent in southeastern quadrant (in nautical miles)\\ncol 19 – 64 kt wind radii maximum extent in southwestern quadrant (in nautical miles) \\ncol 20 – 64 kt wind radii maximum extent in northwestern quadrant (in nautical miles)\\n'"
      ],
      "text/plain": [
       "[1] \"\\ndata rows\\ncol 1 – date YYYYmmDD\\ncol 2 – time HHMM\\ncol 3 – record identifier (factor)\\ncol 4 – storm type (factor)\\ncol 5 – latitude (n/s)\\ncol 6 – longitude (e/w)\\ncol 7 – Maximum sustained wind (in knots)\\ncol 8 – Minimum Pressure (in millibars)\\ncol 9 – 34 kt wind radii maximum extent in northeastern quadrant (in nautical miles) \\ncol 10 – 34 kt wind radii maximum extent in southeastern quadrant (in nautical miles) \\ncol 11 – 34 kt wind radii maximum extent in southwestern quadrant (in nautical miles) \\ncol 12 – 34 kt wind radii maximum extent in northwestern quadrant (in nautical miles) \\ncol 13 – 50 kt wind radii maximum extent in northeastern quadrant (in nautical miles) \\ncol 14 – 50 kt wind radii maximum extent in southeastern quadrant (in nautical miles) \\ncol 15 – 50 kt wind radii maximum extent in southwestern quadrant (in nautical miles) \\ncol 16 – 50 kt wind radii maximum extent in northwestern quadrant (in nautical miles) \\ncol 17 – 64 kt wind radii maximum extent in northeastern quadrant (in nautical miles)\\ncol 18 – 64 kt wind radii maximum extent in southeastern quadrant (in nautical miles)\\ncol 19 – 64 kt wind radii maximum extent in southwestern quadrant (in nautical miles) \\ncol 20 – 64 kt wind radii maximum extent in northwestern quadrant (in nautical miles)\\n\""
      ]
     },
     "metadata": {},
     "output_type": "display_data"
    }
   ],
   "source": [
    "\"\n",
    "data rows\n",
    "col 1 – date YYYYmmDD\n",
    "col 2 – time HHMM\n",
    "col 3 – record identifier (factor)\n",
    "col 4 – storm type (factor)\n",
    "col 5 – latitude (n/s)\n",
    "col 6 – longitude (e/w)\n",
    "col 7 – Maximum sustained wind (in knots)\n",
    "col 8 – Minimum Pressure (in millibars)\n",
    "col 9 – 34 kt wind radii maximum extent in northeastern quadrant (in nautical miles) \n",
    "col 10 – 34 kt wind radii maximum extent in southeastern quadrant (in nautical miles) \n",
    "col 11 – 34 kt wind radii maximum extent in southwestern quadrant (in nautical miles) \n",
    "col 12 – 34 kt wind radii maximum extent in northwestern quadrant (in nautical miles) \n",
    "col 13 – 50 kt wind radii maximum extent in northeastern quadrant (in nautical miles) \n",
    "col 14 – 50 kt wind radii maximum extent in southeastern quadrant (in nautical miles) \n",
    "col 15 – 50 kt wind radii maximum extent in southwestern quadrant (in nautical miles) \n",
    "col 16 – 50 kt wind radii maximum extent in northwestern quadrant (in nautical miles) \n",
    "col 17 – 64 kt wind radii maximum extent in northeastern quadrant (in nautical miles)\n",
    "col 18 – 64 kt wind radii maximum extent in southeastern quadrant (in nautical miles)\n",
    "col 19 – 64 kt wind radii maximum extent in southwestern quadrant (in nautical miles) \n",
    "col 20 – 64 kt wind radii maximum extent in northwestern quadrant (in nautical miles)\n",
    "\"\n",
    "data_row_header = c('date', 'time', 'record_id', 'storm_type', 'lat', 'lon', 'speed', 'pressure', \n",
    "                   'wind_radii_ne_34', 'wind_radii_se_34', 'wind_radii_sw_34', 'wind_radii_nw_34',\n",
    "                   'wind_radii_ne_50', 'wind_radii_se_50', 'wind_radii_sw_50', 'wind_radii_nw_50',\n",
    "                   'wind_radii_ne_64', 'wind_radii_se_64', 'wind_radii_sw_64', 'wind_radii_nw_64', 'size')"
   ]
  },
  {
   "cell_type": "code",
   "execution_count": 86,
   "metadata": {},
   "outputs": [],
   "source": [
    "is_header_row = function(row){\n",
    "    if(sum(is.na(row)) == 15) TRUE else FALSE\n",
    "}\n",
    "\n",
    "header_locations = function(data){\n",
    "    to_vec(for(row in 1:nrow(data)) if (is_header_row(data[row,])) row)\n",
    "}\n",
    "           \n",
    "make_huricane_data_map = function(data, header_indices){\n",
    "    names = list()\n",
    "    name_data = list()\n",
    "    i = 1 \n",
    "    for(row_index in 1:length(header_indices)){\n",
    "        row = header_indices[row_index]\n",
    "        current_header = data[row,]\n",
    "        names[[i]] = current_header[1, 2]\n",
    "        if (row_index == length(header_indices)){\n",
    "            name_data[[i]] = data[(row+1):nrow(data),]\n",
    "        }else {\n",
    "            next_header = header_indices[row_index+1]\n",
    "            name_data[[i]] = data[(row+1):(next_header-1),]\n",
    "        }\n",
    "        i = i + 1\n",
    "    }\n",
    "    list(names=names, name_data=name_data)\n",
    "}"
   ]
  },
  {
   "cell_type": "code",
   "execution_count": 88,
   "metadata": {},
   "outputs": [
    {
     "ename": "ERROR",
     "evalue": "Error in pacific_data %>% mutate(datetime = parse_date_time(paste(pacific_data$date, : could not find function \"%>%\"\n",
     "output_type": "error",
     "traceback": [
      "Error in pacific_data %>% mutate(datetime = parse_date_time(paste(pacific_data$date, : could not find function \"%>%\"\nTraceback:\n"
     ]
    }
   ],
   "source": [
    "pacific_data = read.csv('pacific_huricane.csv', header=FALSE, stringsAsFactors = FALSE)\n",
    "atlantic_data = read.csv('atlantic_huricane.csv', header=FALSE, stringsAsFactors = FALSE)\n",
    "\n",
    "colnames(pacific_data) = data_row_header\n",
    "colnames(atlantic_data) = data_row_header\n",
    "\n",
    "pacific_header_indices = header_locations(pacific_data)\n",
    "atlantic_header_indices = header_locations(atlantic_data)"
   ]
  },
  {
   "cell_type": "code",
   "execution_count": 90,
   "metadata": {},
   "outputs": [],
   "source": [
    "pacific_data = pacific_data %>% mutate(datetime=parse_date_time(paste(pacific_data$date, pacific_data$time, sep=' '), \"Ymd HM\", tz = 'America/Chicago', quiet=TRUE))\n",
    "\n",
    "atlantic_data = atlantic_data %>% mutate(datetime=parse_date_time(paste(atlantic_data$date, atlantic_data$time, sep=' '), \"Ymd HM\", tz = 'America/Chicago', quiet=TRUE))\n"
   ]
  },
  {
   "cell_type": "code",
   "execution_count": 96,
   "metadata": {},
   "outputs": [],
   "source": [
    "# head(pacific_data)"
   ]
  },
  {
   "cell_type": "code",
   "execution_count": 95,
   "metadata": {},
   "outputs": [],
   "source": [
    "# tail(atlantic_data)"
   ]
  },
  {
   "cell_type": "code",
   "execution_count": 82,
   "metadata": {},
   "outputs": [],
   "source": [
    "pacific_map = make_huricane_data_map(pacific_data, pacific_header_indices)\n",
    "atlantic_map = make_huricane_data_map(atlantic_data, atlantic_header_indices)"
   ]
  },
  {
   "cell_type": "code",
   "execution_count": 83,
   "metadata": {},
   "outputs": [],
   "source": [
    "# pacific_map$names"
   ]
  },
  {
   "cell_type": "code",
   "execution_count": 93,
   "metadata": {},
   "outputs": [],
   "source": [
    "# pacific_map$name_data[1]"
   ]
  },
  {
   "cell_type": "code",
   "execution_count": 94,
   "metadata": {},
   "outputs": [],
   "source": [
    "# head(pacific_data)"
   ]
  },
  {
   "cell_type": "code",
   "execution_count": null,
   "metadata": {},
   "outputs": [],
   "source": []
  }
 ],
 "metadata": {
  "kernelspec": {
   "display_name": "R",
   "language": "R",
   "name": "ir"
  },
  "language_info": {
   "codemirror_mode": "r",
   "file_extension": ".r",
   "mimetype": "text/x-r-source",
   "name": "R",
   "pygments_lexer": "r",
   "version": "3.6.2"
  }
 },
 "nbformat": 4,
 "nbformat_minor": 2
}
